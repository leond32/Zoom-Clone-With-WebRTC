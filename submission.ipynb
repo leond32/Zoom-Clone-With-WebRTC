{
  "cells": [
    {
      "cell_type": "code",
      "execution_count": null,
      "metadata": {
        "id": "Q1vb92WF2IFn"
      },
      "outputs": [],
      "source": [
        "# Code for Exercise 0\n",
        "def hello_world():\n",
        "    return \"Hello, world!\""
      ]
    },
    {
      "cell_type": "code",
      "execution_count": null,
      "metadata": {
        "id": "IzQqh3Wq2IFq"
      },
      "outputs": [],
      "source": [
        "# Code for Exercise 1\n",
        "def factorial(n):\n",
        "    fact = 1;\n",
        "    if n > 0:\n",
        "        for i in range(n):\n",
        "            fact = fact*(i+1)\n",
        "    if n < 0:\n",
        "        return -1;\n",
        "    return fact;"
      ]
    },
    {
      "cell_type": "code",
      "execution_count": null,
      "metadata": {
        "id": "2JTesFYCvjUa"
      },
      "outputs": [],
      "source": []
    }
  ],
  "metadata": {
    "colab": {
      "name": "submission.ipynb",
      "provenance": []
    },
    "kernelspec": {
      "display_name": "Python 3 (ipykernel)",
      "language": "python",
      "name": "python3"
    },
    "language_info": {
      "codemirror_mode": {
        "name": "ipython",
        "version": 3
      },
      "file_extension": ".py",
      "mimetype": "text/x-python",
      "name": "python",
      "nbconvert_exporter": "python",
      "pygments_lexer": "ipython3",
      "version": "3.9.7"
    }
  },
  "nbformat": 4,
  "nbformat_minor": 0
}